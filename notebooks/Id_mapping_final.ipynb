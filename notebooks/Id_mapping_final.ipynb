{
 "cells": [
  {
   "cell_type": "code",
   "execution_count": 1,
   "metadata": {},
   "outputs": [],
   "source": [
    "import numpy as np\n",
    "import pdb\n",
    "import sys\n",
    "import json\n",
    "import re\n",
    "import os.path\n",
    "import glob, os\n",
    "\n",
    "\n",
    "from rdkit import Chem\n",
    "from rdkit.Chem import AllChem, rdmolops, AddHs, Draw\n",
    "import pandas as pd\n",
    "from tqdm import tqdm \n",
    "from PIL import Image"
   ]
  },
  {
   "cell_type": "code",
   "execution_count": 13,
   "metadata": {},
   "outputs": [],
   "source": [
    "with open('./../data/metanetx_metab_db_all.json') as mnx_met:\n",
    "    metanetx_metab_db = json.load(mnx_met)\n",
    "    \n",
    "\n",
    "with open('./../data/MNXM_to_KEGGids.json') as kegg_to_mnxm:\n",
    "    kegg_to_mnxm_dict = json.load(kegg_to_mnxm)\n"
   ]
  },
  {
   "cell_type": "code",
   "execution_count": 14,
   "metadata": {},
   "outputs": [],
   "source": [
    "met_ls = list(metanetx_metab_db.keys())\n",
    "MNXM_id = met_ls\n",
    "\n",
    "kegg_id = list(kegg_to_mnxm_dict.keys())\n"
   ]
  },
  {
   "cell_type": "code",
   "execution_count": 15,
   "metadata": {},
   "outputs": [
    {
     "data": {
      "text/plain": [
       "{'Name': '1-(14Z,17Z,20Z,23Z,26Z-dotriacontapentaenoyl)-2-(13-methyltetradecanoyl)-sn-glycero-3-phospho-N-dodecanoyl-ethanolamine',\n",
       " 'Formula': 'C64H115NO9P',\n",
       " 'Charge': '-1',\n",
       " 'Mass': '1072.83149',\n",
       " 'InChI': 'InChI=1S/C64H116NO9P/c1-5-7-9-11-13-15-16-17-18-19-20-21-22-23-24-25-26-27-28-29-30-31-32-33-34-38-42-46-50-54-63(67)71-58-61(74-64(68)55-51-47-43-39-35-37-40-44-48-52-60(3)4)59-73-75(69,70)72-57-56-65-62(66)53-49-45-41-36-14-12-10-8-6-2/h13,15,17-18,20-21,23-24,26-27,60-61H,5-12,14,16,19,22,25,28-59H2,1-4H3,(H,65,66)(H,69,70)/p-1/b15-13-,18-17-,21-20-,24-23-,27-26-/t61-/m1/s1',\n",
       " 'InChIKey': 'InChIKey=DAAMQYDFEKBAGH-LBOSQYDESA-M',\n",
       " 'SMILES': 'CCCCC/C=C\\\\C/C=C\\\\C/C=C\\\\C/C=C\\\\C/C=C\\\\CCCCCCCCCCCCC(=O)OC[C@H](COP(=O)([O-])OCCNC(=O)CCCCCCCCCCC)OC(=O)CCCCCCCCCCCC(C)C',\n",
       " 'Reference': 'slm:000693289'}"
      ]
     },
     "execution_count": 15,
     "metadata": {},
     "output_type": "execute_result"
    }
   ],
   "source": [
    "metanetx_metab_db[MNXM_id[1000]]"
   ]
  },
  {
   "cell_type": "code",
   "execution_count": 16,
   "metadata": {},
   "outputs": [
    {
     "data": {
      "text/plain": [
       "'MNXM10060'"
      ]
     },
     "execution_count": 16,
     "metadata": {},
     "output_type": "execute_result"
    }
   ],
   "source": [
    "kegg_to_mnxm_dict[kegg_id[10]]"
   ]
  },
  {
   "cell_type": "code",
   "execution_count": 17,
   "metadata": {},
   "outputs": [],
   "source": [
    "# Metanetx dictionary\n",
    "metanetx_dict = metanetx_metab_db\n",
    "\n",
    "# KEGG to Metanetx mapping\n",
    "kegg_to_metanetx = kegg_to_mnxm_dict\n",
    "\n",
    "\n",
    "def get_info(identifier):\n",
    "    result = {}\n",
    "    if identifier in metanetx_dict:\n",
    "        result['Metanetx ID'] = identifier\n",
    "        result.update(metanetx_dict.get(identifier))\n",
    "        for kegg_id, metanetx_id in kegg_to_metanetx.items():\n",
    "            if metanetx_id == identifier:\n",
    "                result['KEGG ID'] = kegg_id\n",
    "    elif identifier in kegg_to_metanetx:\n",
    "        metanetx_id = kegg_to_metanetx.get(identifier)\n",
    "        result['KEGG ID'] = identifier\n",
    "        result.update(metanetx_dict.get(metanetx_id))\n",
    "        result['Metanetx ID'] = metanetx_id\n",
    "    else:\n",
    "        for metanetx_id, info in metanetx_dict.items():\n",
    "            if info.get('Name') == identifier:\n",
    "                result['Metanetx ID'] = metanetx_id\n",
    "                result.update(info)\n",
    "            elif info.get('Formula') == identifier:\n",
    "                result['Metanetx ID'] = metanetx_id\n",
    "                result.update(info)\n",
    "            elif info.get('InChI') == identifier:\n",
    "                result['Metanetx ID'] = metanetx_id\n",
    "                result.update(info)\n",
    "            elif info.get('SMILES') == identifier:\n",
    "                result['Metanetx ID'] = metanetx_id\n",
    "                result.update(info)\n",
    "        for kegg_id, metanetx_id in kegg_to_metanetx.items():\n",
    "            if metanetx_id == result.get('Metanetx ID'):\n",
    "                result['KEGG ID'] = kegg_id\n",
    "    return result\n",
    "\n",
    "def draw_molecule(identifier, save_path=None):\n",
    "    if identifier.startswith('InChI='):\n",
    "        mol = Chem.MolFromInchi(identifier)\n",
    "    elif identifier.startswith('[') and identifier.endswith(']'):\n",
    "        mol = Chem.MolFromSmiles(identifier)\n",
    "    else:\n",
    "        info = get_info(identifier)\n",
    "        if info:\n",
    "            mol = Chem.MolFromSmiles(info.get('SMILES'))\n",
    "        else:\n",
    "            mol = None\n",
    "    if mol:\n",
    "        Draw.MolToImage(mol).show()\n",
    "        if save_path:\n",
    "            Draw.MolToFile(mol, save_path)\n",
    "    else:\n",
    "        print(\"Unable to draw molecule.\")\n",
    "\n"
   ]
  },
  {
   "cell_type": "code",
   "execution_count": 18,
   "metadata": {},
   "outputs": [
    {
     "name": "stdout",
     "output_type": "stream",
     "text": [
      "{'Metanetx ID': 'MNXM1002', 'Name': 'Sepiapterin', 'Formula': 'C9H11N5O3', 'Charge': '0', 'Mass': '237.08619', 'InChI': 'InChI=1S/C9H11N5O3/c1-3(15)6(16)4-2-11-7-5(12-4)8(17)14-9(10)13-7/h3,15H,2H2,1H3,(H4,10,11,13,14,17)/t3-/m0/s1', 'InChIKey': 'InChIKey=VPVOXUSPXFPWBN-VKHMYHEASA-N', 'SMILES': 'C[C@H](O)C(=O)C1=Nc2c(nc(N)[nH]c2=O)NC1', 'Reference': 'keggC:C00835', 'KEGG ID': 'C00835'}\n"
     ]
    },
    {
     "name": "stderr",
     "output_type": "stream",
     "text": [
      "/usr/bin/xdg-open: line 862: x-www-browser: command not found\n",
      "/usr/bin/xdg-open: line 862: firefox: command not found\n",
      "/usr/bin/xdg-open: line 862: iceweasel: command not found\n",
      "/usr/bin/xdg-open: line 862: seamonkey: command not found\n",
      "/usr/bin/xdg-open: line 862: mozilla: command not found\n",
      "/usr/bin/xdg-open: line 862: epiphany: command not found\n",
      "/usr/bin/xdg-open: line 862: konqueror: command not found\n",
      "/usr/bin/xdg-open: line 862: chromium: command not found\n",
      "/usr/bin/xdg-open: line 862: chromium-browser: command not found\n",
      "/usr/bin/xdg-open: line 862: google-chrome: command not found\n",
      "/usr/bin/xdg-open: line 862: www-browser: command not found\n",
      "/usr/bin/xdg-open: line 862: links2: command not found\n",
      "/usr/bin/xdg-open: line 862: elinks: command not found\n",
      "/usr/bin/xdg-open: line 862: links: command not found\n",
      "/usr/bin/xdg-open: line 862: lynx: command not found\n",
      "/usr/bin/xdg-open: line 862: w3m: command not found\n",
      "xdg-open: no method available for opening '/tmp/tmp19idqyw2.PNG'\n"
     ]
    }
   ],
   "source": [
    "# Example usage\n",
    "info = get_info('MNXM1002')\n",
    "print(info)\n",
    "draw_molecule(info['InChI'], save_path='mol_image.svg')            # image format can be changed to any types including jpg, png, tiff, pdf...\n"
   ]
  },
  {
   "cell_type": "code",
   "execution_count": 19,
   "metadata": {},
   "outputs": [
    {
     "name": "stdout",
     "output_type": "stream",
     "text": [
      "{'Metanetx ID': 'MNXM1002', 'Name': 'Sepiapterin', 'Formula': 'C9H11N5O3', 'Charge': '0', 'Mass': '237.08619', 'InChI': 'InChI=1S/C9H11N5O3/c1-3(15)6(16)4-2-11-7-5(12-4)8(17)14-9(10)13-7/h3,15H,2H2,1H3,(H4,10,11,13,14,17)/t3-/m0/s1', 'InChIKey': 'InChIKey=VPVOXUSPXFPWBN-VKHMYHEASA-N', 'SMILES': 'C[C@H](O)C(=O)C1=Nc2c(nc(N)[nH]c2=O)NC1', 'Reference': 'keggC:C00835', 'KEGG ID': 'C00835'}\n"
     ]
    }
   ],
   "source": [
    "\n",
    "info = get_info('InChI=1S/C9H11N5O3/c1-3(15)6(16)4-2-11-7-5(12-4)8(17)14-9(10)13-7/h3,15H,2H2,1H3,(H4,10,11,13,14,17)/t3-/m0/s1')\n",
    "print(info)"
   ]
  },
  {
   "cell_type": "code",
   "execution_count": 20,
   "metadata": {},
   "outputs": [
    {
     "name": "stdout",
     "output_type": "stream",
     "text": [
      "{'Metanetx ID': 'MNXM1002', 'Name': 'Sepiapterin', 'Formula': 'C9H11N5O3', 'Charge': '0', 'Mass': '237.08619', 'InChI': 'InChI=1S/C9H11N5O3/c1-3(15)6(16)4-2-11-7-5(12-4)8(17)14-9(10)13-7/h3,15H,2H2,1H3,(H4,10,11,13,14,17)/t3-/m0/s1', 'InChIKey': 'InChIKey=VPVOXUSPXFPWBN-VKHMYHEASA-N', 'SMILES': 'C[C@H](O)C(=O)C1=Nc2c(nc(N)[nH]c2=O)NC1', 'Reference': 'keggC:C00835', 'KEGG ID': 'C00835'}\n"
     ]
    }
   ],
   "source": [
    "info = get_info('C[C@H](O)C(=O)C1=Nc2c(nc(N)[nH]c2=O)NC1')\n",
    "print(info)"
   ]
  },
  {
   "cell_type": "code",
   "execution_count": 21,
   "metadata": {},
   "outputs": [
    {
     "name": "stdout",
     "output_type": "stream",
     "text": [
      "{'Metanetx ID': 'MNXM1002', 'Name': 'Sepiapterin', 'Formula': 'C9H11N5O3', 'Charge': '0', 'Mass': '237.08619', 'InChI': 'InChI=1S/C9H11N5O3/c1-3(15)6(16)4-2-11-7-5(12-4)8(17)14-9(10)13-7/h3,15H,2H2,1H3,(H4,10,11,13,14,17)/t3-/m0/s1', 'InChIKey': 'InChIKey=VPVOXUSPXFPWBN-VKHMYHEASA-N', 'SMILES': 'C[C@H](O)C(=O)C1=Nc2c(nc(N)[nH]c2=O)NC1', 'Reference': 'keggC:C00835', 'KEGG ID': 'C00835'}\n"
     ]
    }
   ],
   "source": [
    "\n",
    "info = get_info('Sepiapterin')\n",
    "print(info)"
   ]
  },
  {
   "cell_type": "code",
   "execution_count": null,
   "metadata": {},
   "outputs": [],
   "source": []
  },
  {
   "cell_type": "code",
   "execution_count": null,
   "metadata": {},
   "outputs": [],
   "source": []
  },
  {
   "cell_type": "code",
   "execution_count": null,
   "metadata": {},
   "outputs": [],
   "source": []
  }
 ],
 "metadata": {
  "kernelspec": {
   "display_name": "Python 3 (ipykernel)",
   "language": "python",
   "name": "python3"
  },
  "language_info": {
   "codemirror_mode": {
    "name": "ipython",
    "version": 3
   },
   "file_extension": ".py",
   "mimetype": "text/x-python",
   "name": "python",
   "nbconvert_exporter": "python",
   "pygments_lexer": "ipython3",
   "version": "3.11.5"
  }
 },
 "nbformat": 4,
 "nbformat_minor": 4
}
